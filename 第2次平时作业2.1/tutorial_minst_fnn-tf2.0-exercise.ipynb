{
 "cells": [
  {
   "cell_type": "markdown",
   "metadata": {},
   "source": [
    "## 准备数据"
   ]
  },
  {
   "cell_type": "code",
   "execution_count": 1,
   "metadata": {},
   "outputs": [],
   "source": [
    "import os\n",
    "import numpy as np\n",
    "import tensorflow as tf\n",
    "from tensorflow import keras\n",
    "from tensorflow.keras import layers, optimizers, datasets\n",
    "\n",
    "os.environ['TF_CPP_MIN_LOG_LEVEL'] = '2'  # or any {'0', '1', '2'}\n",
    "\n",
    "def mnist_dataset():\n",
    "    (x, y), (x_test, y_test) = datasets.mnist.load_data()\n",
    "    #normalize\n",
    "    x = x/255.0\n",
    "    x_test = x_test/255.0\n",
    "    \n",
    "    return (x, y), (x_test, y_test)"
   ]
  },
  {
   "cell_type": "code",
   "execution_count": 8,
   "metadata": {},
   "outputs": [
    {
     "name": "stdout",
     "output_type": "stream",
     "text": [
      "[(1, 'a'), (2, 'b'), (3, 'c'), (4, 'd')]\n"
     ]
    }
   ],
   "source": [
    "print(list(zip([1, 2, 3, 4], ['a', 'b', 'c', 'd'])))"
   ]
  },
  {
   "cell_type": "markdown",
   "metadata": {},
   "source": [
    "## 建立模型"
   ]
  },
  {
   "cell_type": "code",
   "execution_count": 2,
   "metadata": {},
   "outputs": [],
   "source": [
    "class myModel:\n",
    "    def __init__(self):\n",
    "        ####################\n",
    "        '''声明模型对应的参数'''\n",
    "        self.W1 = tf.Variable(tf.random.normal([28*28, 128]), dtype=tf.float32)\n",
    "        self.b1 = tf.Variable(tf.zeros([128]), dtype=tf.float32)\n",
    "        self.W2 = tf.Variable(tf.random.normal([128, 10]), dtype=tf.float32)\n",
    "        self.b2 = tf.Variable(tf.zeros([10]), dtype=tf.float32)\n",
    "        ####################\n",
    "    def __call__(self, x):\n",
    "        ####################\n",
    "        '''实现模型函数体，返回未归一化的logits'''\n",
    "        x = tf.reshape(x, [-1, 28*28])  # Flatten the input\n",
    "        h1 = tf.nn.relu(tf.matmul(x, self.W1) + self.b1)  # Hidden layer with ReLU activation\n",
    "        logits = tf.matmul(h1, self.W2) + self.b2  # Output layer\n",
    "        ####################\n",
    "        return logits\n",
    "        \n",
    "model = myModel()\n",
    "\n",
    "optimizer = optimizers.Adam()"
   ]
  },
  {
   "cell_type": "markdown",
   "metadata": {},
   "source": [
    "## 计算 loss"
   ]
  },
  {
   "cell_type": "code",
   "execution_count": 3,
   "metadata": {},
   "outputs": [],
   "source": [
    "@tf.function\n",
    "def compute_loss(logits, labels):\n",
    "    return tf.reduce_mean(\n",
    "        tf.nn.sparse_softmax_cross_entropy_with_logits(\n",
    "            logits=logits, labels=labels))\n",
    "\n",
    "@tf.function\n",
    "def compute_accuracy(logits, labels):\n",
    "    predictions = tf.argmax(logits, axis=1)\n",
    "    return tf.reduce_mean(tf.cast(tf.equal(predictions, labels), tf.float32))\n",
    "\n",
    "@tf.function\n",
    "def train_one_step(model, optimizer, x, y):\n",
    "    with tf.GradientTape() as tape:\n",
    "        logits = model(x)\n",
    "        loss = compute_loss(logits, y)\n",
    "\n",
    "    # compute gradient\n",
    "    trainable_vars = [model.W1, model.W2, model.b1, model.b2]\n",
    "    grads = tape.gradient(loss, trainable_vars)\n",
    "    for g, v in zip(grads, trainable_vars):\n",
    "        v.assign_sub(0.01*g)\n",
    "\n",
    "    accuracy = compute_accuracy(logits, y)\n",
    "\n",
    "    # loss and accuracy is scalar tensor\n",
    "    return loss, accuracy\n",
    "\n",
    "@tf.function\n",
    "def test(model, x, y):\n",
    "    logits = model(x)\n",
    "    loss = compute_loss(logits, y)\n",
    "    accuracy = compute_accuracy(logits, y)\n",
    "    return loss, accuracy"
   ]
  },
  {
   "cell_type": "markdown",
   "metadata": {},
   "source": [
    "## 实际训练"
   ]
  },
  {
   "cell_type": "code",
   "execution_count": 10,
   "metadata": {},
   "outputs": [
    {
     "name": "stdout",
     "output_type": "stream",
     "text": [
      "epoch 0 : loss 8.727601 ; accuracy 0.6961\n",
      "epoch 1 : loss 8.710278 ; accuracy 0.69655\n",
      "epoch 2 : loss 8.693051 ; accuracy 0.6969333\n",
      "epoch 3 : loss 8.675921 ; accuracy 0.69738334\n",
      "epoch 4 : loss 8.658887 ; accuracy 0.69795\n",
      "epoch 5 : loss 8.641948 ; accuracy 0.6983333\n",
      "epoch 6 : loss 8.625106 ; accuracy 0.69876665\n",
      "epoch 7 : loss 8.608359 ; accuracy 0.69916666\n",
      "epoch 8 : loss 8.591712 ; accuracy 0.69955\n",
      "epoch 9 : loss 8.575159 ; accuracy 0.69991666\n",
      "epoch 10 : loss 8.558698 ; accuracy 0.70035\n",
      "epoch 11 : loss 8.542326 ; accuracy 0.7007167\n",
      "epoch 12 : loss 8.526041 ; accuracy 0.7011833\n",
      "epoch 13 : loss 8.509845 ; accuracy 0.7016\n",
      "epoch 14 : loss 8.493735 ; accuracy 0.7019167\n",
      "epoch 15 : loss 8.477712 ; accuracy 0.70225\n",
      "epoch 16 : loss 8.461773 ; accuracy 0.7026167\n",
      "epoch 17 : loss 8.445921 ; accuracy 0.7029667\n",
      "epoch 18 : loss 8.430153 ; accuracy 0.7034\n",
      "epoch 19 : loss 8.414471 ; accuracy 0.7037\n",
      "epoch 20 : loss 8.398873 ; accuracy 0.7040667\n",
      "epoch 21 : loss 8.383359 ; accuracy 0.70445\n",
      "epoch 22 : loss 8.367928 ; accuracy 0.70491666\n",
      "epoch 23 : loss 8.3525715 ; accuracy 0.7053667\n",
      "epoch 24 : loss 8.337296 ; accuracy 0.70566666\n",
      "epoch 25 : loss 8.322099 ; accuracy 0.7058667\n",
      "epoch 26 : loss 8.306977 ; accuracy 0.7061333\n",
      "epoch 27 : loss 8.291932 ; accuracy 0.70643336\n",
      "epoch 28 : loss 8.276963 ; accuracy 0.7068167\n",
      "epoch 29 : loss 8.262072 ; accuracy 0.7072333\n",
      "epoch 30 : loss 8.247255 ; accuracy 0.70765\n",
      "epoch 31 : loss 8.232512 ; accuracy 0.70795\n",
      "epoch 32 : loss 8.217844 ; accuracy 0.70835\n",
      "epoch 33 : loss 8.203249 ; accuracy 0.7087333\n",
      "epoch 34 : loss 8.188726 ; accuracy 0.7090167\n",
      "epoch 35 : loss 8.174276 ; accuracy 0.7093667\n",
      "epoch 36 : loss 8.159899 ; accuracy 0.7099\n",
      "epoch 37 : loss 8.145591 ; accuracy 0.71033335\n",
      "epoch 38 : loss 8.131352 ; accuracy 0.71061665\n",
      "epoch 39 : loss 8.117183 ; accuracy 0.7108167\n",
      "epoch 40 : loss 8.103083 ; accuracy 0.71113336\n",
      "epoch 41 : loss 8.089054 ; accuracy 0.71143335\n",
      "epoch 42 : loss 8.075091 ; accuracy 0.7119\n",
      "epoch 43 : loss 8.061198 ; accuracy 0.7122667\n",
      "epoch 44 : loss 8.047372 ; accuracy 0.71258336\n",
      "epoch 45 : loss 8.033616 ; accuracy 0.7129833\n",
      "epoch 46 : loss 8.019927 ; accuracy 0.7134167\n",
      "epoch 47 : loss 8.006305 ; accuracy 0.71375\n",
      "epoch 48 : loss 7.9927483 ; accuracy 0.71415\n",
      "epoch 49 : loss 7.979255 ; accuracy 0.71445\n",
      "test loss 7.2903767 ; accuracy 0.7327\n"
     ]
    }
   ],
   "source": [
    "train_data, test_data = mnist_dataset()\n",
    "for epoch in range(50):\n",
    "    loss, accuracy = train_one_step(model, optimizer, \n",
    "                                    tf.constant(train_data[0], dtype=tf.float32), \n",
    "                                    tf.constant(train_data[1], dtype=tf.int64))\n",
    "    print('epoch', epoch, ': loss', loss.numpy(), '; accuracy', accuracy.numpy())\n",
    "loss, accuracy = test(model, \n",
    "                      tf.constant(test_data[0], dtype=tf.float32), \n",
    "                      tf.constant(test_data[1], dtype=tf.int64))\n",
    "\n",
    "print('test loss', loss.numpy(), '; accuracy', accuracy.numpy())"
   ]
  }
 ],
 "metadata": {
  "kernelspec": {
   "display_name": "tensor",
   "language": "python",
   "name": "python3"
  },
  "language_info": {
   "codemirror_mode": {
    "name": "ipython",
    "version": 3
   },
   "file_extension": ".py",
   "mimetype": "text/x-python",
   "name": "python",
   "nbconvert_exporter": "python",
   "pygments_lexer": "ipython3",
   "version": "3.11.11"
  }
 },
 "nbformat": 4,
 "nbformat_minor": 2
}
